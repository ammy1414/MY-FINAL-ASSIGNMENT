{
 "cells": [
  {
   "cell_type": "markdown",
   "id": "500e0e70-d7f3-43b1-8176-b06db2e0d8b7",
   "metadata": {
    "tags": []
   },
   "source": [
    "# My JUPYTER NOTEBOOK ON IBM WATSON STUDIO"
   ]
  },
  {
   "cell_type": "markdown",
   "id": "b8be278b-7fe7-4d74-92d5-2f8a0bf36b0f",
   "metadata": {},
   "source": [
    "**AMAN SAXENA**"
   ]
  },
  {
   "cell_type": "markdown",
   "id": "2c02e405-5ce9-4403-8d98-9f71ff88dc7b",
   "metadata": {},
   "source": [
    "DATA SCIENTIST"
   ]
  },
  {
   "cell_type": "markdown",
   "id": "34123da0-025b-461f-a9ab-ee4195a7e185",
   "metadata": {},
   "source": [
    "*I AM INTERESTED IN DATA SCIENCE BECAUSE THIS IS THE SEXIEST OCCUPATION IN TODAY'S WORLD. AND IT PAYS A LOT COMPARING TO MOST OF THE OTHER OCCUPATIONS IN THE WORLD*"
   ]
  },
  {
   "cell_type": "markdown",
   "id": "2038f7cc-2eab-4fb2-8589-bcc4aaca26c0",
   "metadata": {},
   "source": [
    "### In the next cell i am going to add 3 + 3 and the output will be 6 after i run the cell."
   ]
  },
  {
   "cell_type": "code",
   "execution_count": 6,
   "id": "1f984f20-3cf6-4624-be17-874dd4ea3f79",
   "metadata": {},
   "outputs": [
    {
     "data": {
      "text/plain": [
       "6"
      ]
     },
     "execution_count": 6,
     "metadata": {},
     "output_type": "execute_result"
    }
   ],
   "source": [
    "3 + 3"
   ]
  },
  {
   "cell_type": "markdown",
   "id": "5bab69cb-224c-4ba3-8c79-336c661931b7",
   "metadata": {},
   "source": [
    "# Here are some links!\n"
   ]
  },
  {
   "cell_type": "markdown",
   "id": "06cf8f30-b665-49f1-8b38-b0938ed24b98",
   "metadata": {},
   "source": [
    "i like [python] {http://python.org}"
   ]
  },
  {
   "cell_type": "markdown",
   "id": "64703c22-5542-4009-a875-821ab4a59f2b",
   "metadata": {},
   "source": [
    "## here is the list of work we can do in jupyter notebook "
   ]
  },
  {
   "cell_type": "markdown",
   "id": "64e913cd-fbd4-4458-8ab6-2607f4c9c00c",
   "metadata": {},
   "source": [
    "- data mining\n",
    "- data extraction\n",
    "- project making"
   ]
  },
  {
   "cell_type": "code",
   "execution_count": null,
   "id": "d39ade99-462d-4cdf-b804-f03c2c5d6391",
   "metadata": {},
   "outputs": [],
   "source": []
  }
 ],
 "metadata": {
  "kernelspec": {
   "display_name": "Python",
   "language": "python",
   "name": "conda-env-python-py"
  },
  "language_info": {
   "codemirror_mode": {
    "name": "ipython",
    "version": 3
   },
   "file_extension": ".py",
   "mimetype": "text/x-python",
   "name": "python",
   "nbconvert_exporter": "python",
   "pygments_lexer": "ipython3",
   "version": "3.7.12"
  }
 },
 "nbformat": 4,
 "nbformat_minor": 5
}
